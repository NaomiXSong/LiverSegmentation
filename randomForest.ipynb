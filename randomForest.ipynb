{
 "cells": [
  {
   "cell_type": "code",
   "execution_count": 1,
   "metadata": {
    "collapsed": true
   },
   "outputs": [],
   "source": [
    "# use random forest for breast cancer data \n",
    "# number of trees\n",
    "# cross-validation, and oob\n",
    "# feature importance"
   ]
  },
  {
   "cell_type": "code",
   "execution_count": 2,
   "metadata": {
    "collapsed": true
   },
   "outputs": [],
   "source": [
    "import numpy as np"
   ]
  },
  {
   "cell_type": "code",
   "execution_count": 3,
   "metadata": {
    "collapsed": true
   },
   "outputs": [],
   "source": [
    "from sklearn.datasets import load_breast_cancer"
   ]
  },
  {
   "cell_type": "code",
   "execution_count": 4,
   "metadata": {
    "collapsed": true
   },
   "outputs": [],
   "source": [
    "data = load_breast_cancer()"
   ]
  },
  {
   "cell_type": "code",
   "execution_count": 5,
   "metadata": {
    "collapsed": false
   },
   "outputs": [
    {
     "name": "stdout",
     "output_type": "stream",
     "text": [
      "(569, 30)\n",
      "(569, 599)\n",
      "[0 0]\n"
     ]
    }
   ],
   "source": [
    "X = data.data\n",
    "Y = data.target\n",
    "print(X.shape)\n",
    "# to demonstrate the case, when there are a lot of noisy features\n",
    "noise = np.random.randn(X.shape[0], X.shape[0]) # noise from normal distribution\n",
    "X = np.hstack([X,noise])\n",
    "print X.shape\n",
    "print Y[:2]"
   ]
  },
  {
   "cell_type": "code",
   "execution_count": 21,
   "metadata": {
    "collapsed": false
   },
   "outputs": [
    {
     "name": "stdout",
     "output_type": "stream",
     "text": [
      "indices after resample:  [9 5 0 5 5 3 5 7 0 6]\n",
      "resampled training data:  [[  1.24600000e+01   2.40400000e+01   8.39700000e+01 ...,  -7.61005972e-01\n",
      "   -1.33461520e-01   2.95899620e-01]\n",
      " [  1.24500000e+01   1.57000000e+01   8.25700000e+01 ...,  -1.86721418e+00\n",
      "    1.30738319e+00  -8.10507820e-01]\n",
      " [  1.79900000e+01   1.03800000e+01   1.22800000e+02 ...,   2.12423864e+00\n",
      "    6.34019481e-01   3.90104235e-01]\n",
      " ..., \n",
      " [  1.37100000e+01   2.08300000e+01   9.02000000e+01 ...,  -3.64481438e-02\n",
      "   -8.77916158e-01   8.94025511e-01]\n",
      " [  1.79900000e+01   1.03800000e+01   1.22800000e+02 ...,   2.12423864e+00\n",
      "    6.34019481e-01   3.90104235e-01]\n",
      " [  1.82500000e+01   1.99800000e+01   1.19600000e+02 ...,  -1.00604175e+00\n",
      "    2.80295376e-01  -5.84582397e-02]]\n"
     ]
    }
   ],
   "source": [
    "# demo resample data\n",
    "Xdemo = X[:10]\n",
    "Xdemo_resample_index = np.random.choice([i for i in range(10)], 10)\n",
    "Xdemo_resample = X[Xdemo_resample_index]\n",
    "print \"indices after resample: \", Xdemo_resample_index\n",
    "print \"resampled training data: \", Xdemo_resample"
   ]
  },
  {
   "cell_type": "code",
   "execution_count": 6,
   "metadata": {
    "collapsed": true
   },
   "outputs": [],
   "source": [
    "from sklearn.model_selection import train_test_split\n",
    "X_train, X_test, Y_train, Y_test = train_test_split(X, Y)"
   ]
  },
  {
   "cell_type": "code",
   "execution_count": 7,
   "metadata": {
    "collapsed": true
   },
   "outputs": [],
   "source": [
    "# experiment 1, prediction power and number of trees\n",
    "from sklearn.ensemble import RandomForestClassifier as RFC\n",
    "scores = []\n",
    "n_trees_list = [1,2,5,10,20,50,80]\n",
    "for n_trees in n_trees_list:\n",
    "    # build a model using different number of trees\n",
    "    model = RFC(n_estimators = n_trees) \n",
    "    # now train the model\n",
    "    model.fit(X_train, Y_train)\n",
    "    scores.append(model.score(X_test, Y_test))"
   ]
  },
  {
   "cell_type": "code",
   "execution_count": 8,
   "metadata": {
    "collapsed": false
   },
   "outputs": [
    {
     "data": {
      "image/png": "[encoded data removed]",
      "text/plain": [
       "<matplotlib.figure.Figure at 0x10c051990>"
      ]
     },
     "metadata": {},
     "output_type": "display_data"
    }
   ],
   "source": [
    "import matplotlib.pyplot as plt\n",
    "%matplotlib inline\n",
    "\n",
    "plt.plot(n_trees_list, scores)\n",
    "plt.xlabel(\"number of trees\")\n",
    "plt.ylabel(\"prediction accuracy\")\n",
    "plt.show()\n",
    "\n",
    "# in principle, the more trees, the better"
   ]
  },
  {
   "cell_type": "code",
   "execution_count": 9,
   "metadata": {
    "collapsed": false
   },
   "outputs": [
    {
     "data": {
      "image/png": "[encoded data removed]",
      "text/plain": [
       "<matplotlib.figure.Figure at 0x10cd9ff50>"
      ]
     },
     "metadata": {},
     "output_type": "display_data"
    }
   ],
   "source": [
    "# experiment 1, prediction power and number of trees\n",
    "from sklearn.ensemble import RandomForestClassifier as RFC\n",
    "scores = []\n",
    "n_trees_list = [1,2,5,10,20,50,80, 100, 200 ,500]\n",
    "for n_trees in n_trees_list:\n",
    "    model = RFC(n_estimators = n_trees, max_features=3)\n",
    "    model.fit(X_train, Y_train)\n",
    "    scores.append(model.score(X_test, Y_test))\n",
    "    \n",
    "plt.plot(n_trees_list, scores)\n",
    "plt.xlabel(\"number of trees\")\n",
    "plt.ylabel(\"prediction accuracy\")\n",
    "plt.show()"
   ]
  },
  {
   "cell_type": "code",
   "execution_count": 10,
   "metadata": {
    "collapsed": false
   },
   "outputs": [
    {
     "data": {
      "text/plain": [
       "RandomForestClassifier(bootstrap=True, class_weight=None, criterion='gini',\n",
       "            max_depth=None, max_features='auto', max_leaf_nodes=None,\n",
       "            min_impurity_split=1e-07, min_samples_leaf=1,\n",
       "            min_samples_split=2, min_weight_fraction_leaf=0.0,\n",
       "            n_estimators=50, n_jobs=1, oob_score=False, random_state=None,\n",
       "            verbose=0, warm_start=False)"
      ]
     },
     "execution_count": 10,
     "metadata": {},
     "output_type": "execute_result"
    }
   ],
   "source": [
    "# feature importance\n",
    "model = RFC(50)\n",
    "model.fit(X_train, Y_train)"
   ]
  },
  {
   "cell_type": "code",
   "execution_count": 11,
   "metadata": {
    "collapsed": false
   },
   "outputs": [
    {
     "data": {
      "text/plain": [
       "array([  3.17159398e-02,   6.65315462e-03,   9.37000857e-02,\n",
       "         2.28687527e-02,   8.96816215e-04,   1.05774982e-02,\n",
       "         2.17666901e-02,   9.30483077e-02,   5.12950711e-03,\n",
       "         6.00479085e-04,   1.32910558e-02,   7.43001082e-04,\n",
       "         1.74591657e-02,   6.27277724e-02,   1.16559950e-03,\n",
       "         2.77238661e-03,   2.26115257e-02,   4.15356247e-03,\n",
       "         1.94506757e-04,   3.10500205e-03,   7.53234454e-02,\n",
       "         8.86863872e-03,   7.99488133e-02,   3.11087415e-02,\n",
       "         1.38527955e-02,   3.05032541e-02,   4.21362883e-02,\n",
       "         3.72919842e-02,   8.60252722e-03,   4.62060066e-03,\n",
       "         5.02955919e-04,   2.94246310e-04,   8.94337703e-04,\n",
       "         1.19413704e-03,   3.77601575e-04,   1.68480534e-03,\n",
       "         7.27927909e-04,   5.62421220e-04,   0.00000000e+00,\n",
       "         0.00000000e+00,   5.78226257e-04,   0.00000000e+00,\n",
       "         4.68746212e-04,   0.00000000e+00,   0.00000000e+00,\n",
       "         3.39920738e-04,   1.58629678e-04,   6.33765886e-05,\n",
       "         1.30776138e-04,   1.46355725e-04,   1.61390382e-04,\n",
       "         0.00000000e+00,   3.88843346e-04,   0.00000000e+00,\n",
       "         1.26385468e-03,   8.95525278e-04,   2.88330442e-04,\n",
       "         2.69980078e-04,   0.00000000e+00,   5.01731326e-04,\n",
       "         1.70141055e-03,   7.03092093e-04,   8.78234752e-04,\n",
       "         1.14730752e-03,   3.01398264e-04,   8.14957329e-04,\n",
       "         5.14014538e-04,   7.78420033e-04,   9.35183720e-04,\n",
       "         3.43740236e-04,   7.73786676e-04,   0.00000000e+00,\n",
       "         5.55271575e-04,   1.04411674e-03,   0.00000000e+00,\n",
       "         8.27628901e-04,   0.00000000e+00,   0.00000000e+00,\n",
       "         3.79273504e-04,   1.52124747e-04,   8.68847493e-04,\n",
       "         3.34487551e-04,   0.00000000e+00,   1.03576935e-03,\n",
       "         1.44527628e-04,   4.16822948e-04,   1.98373799e-04,\n",
       "         1.56509378e-03,   0.00000000e+00,   1.56459669e-03,\n",
       "         6.07706030e-04,   0.00000000e+00,   1.08316025e-03,\n",
       "         1.14552208e-03,   5.08775686e-04,   1.86688465e-03,\n",
       "         7.27502119e-04,   7.48869463e-04,   2.57076167e-04,\n",
       "         0.00000000e+00,   3.11660859e-04,   9.78446819e-05,\n",
       "         5.16052296e-04,   6.27043244e-04,   8.05582094e-04,\n",
       "         0.00000000e+00,   1.04610921e-03,   1.12363988e-03,\n",
       "         1.41376033e-03,   7.44072426e-04,   0.00000000e+00,\n",
       "         0.00000000e+00,   5.16302172e-04,   5.07414138e-04,\n",
       "         4.02925943e-04,   5.43171356e-04,   4.89567662e-04,\n",
       "         6.80355219e-04,   6.88037654e-04,   1.83304647e-04,\n",
       "         4.05665992e-04,   8.34150545e-04,   0.00000000e+00,\n",
       "         0.00000000e+00,   0.00000000e+00,   0.00000000e+00,\n",
       "         4.78157071e-05,   0.00000000e+00,   1.35663137e-03,\n",
       "         3.96143316e-05,   7.99846564e-04,   0.00000000e+00,\n",
       "         1.22420281e-03,   5.30737227e-04,   0.00000000e+00,\n",
       "         3.39155098e-04,   2.49591988e-04,   0.00000000e+00,\n",
       "         0.00000000e+00,   8.03201656e-04,   1.03828002e-03,\n",
       "         8.37842707e-04,   1.12806295e-03,   3.35569295e-04,\n",
       "         0.00000000e+00,   2.07778206e-04,   1.79459095e-04,\n",
       "         1.01189203e-03,   5.75167687e-04,   0.00000000e+00,\n",
       "         0.00000000e+00,   1.45430168e-04,   0.00000000e+00,\n",
       "         4.98991053e-04,   0.00000000e+00,   1.50906858e-04,\n",
       "         3.99390601e-04,   0.00000000e+00,   1.94934200e-03,\n",
       "         0.00000000e+00,   0.00000000e+00,   1.98336809e-04,\n",
       "         0.00000000e+00,   1.19733434e-03,   0.00000000e+00,\n",
       "         5.32733891e-04,   1.48053753e-04,   9.95169991e-04,\n",
       "         1.28170255e-03,   3.22120682e-04,   1.05293249e-04,\n",
       "         0.00000000e+00,   7.38068765e-04,   8.59979220e-04,\n",
       "         5.47652927e-04,   9.87025023e-05,   2.04615646e-04,\n",
       "         1.00147077e-03,   1.95920756e-04,   5.22514793e-04,\n",
       "         5.20565236e-04,   1.96628537e-04,   2.22610668e-03,\n",
       "         0.00000000e+00,   0.00000000e+00,   0.00000000e+00,\n",
       "         1.15730685e-03,   2.98283818e-04,   0.00000000e+00,\n",
       "         3.93395390e-04,   1.18822424e-03,   1.11629540e-03,\n",
       "         3.64583885e-04,   0.00000000e+00,   1.62266397e-04,\n",
       "         1.61823362e-04,   2.50630671e-04,   2.01450302e-03,\n",
       "         0.00000000e+00,   1.68566002e-04,   4.35095757e-04,\n",
       "         1.93204898e-04,   0.00000000e+00,   7.03651337e-04,\n",
       "         3.95896866e-04,   1.17761771e-03,   0.00000000e+00,\n",
       "         0.00000000e+00,   9.26928948e-04,   9.59171426e-04,\n",
       "         0.00000000e+00,   0.00000000e+00,   5.07840844e-04,\n",
       "         1.03069619e-03,   0.00000000e+00,   0.00000000e+00,\n",
       "         1.44046286e-04,   6.08333740e-04,   6.17047609e-04,\n",
       "         1.91990500e-04,   2.75290719e-04,   8.70886362e-04,\n",
       "         1.48053753e-04,   1.93735783e-04,   1.68140749e-04,\n",
       "         5.32071226e-04,   9.76952184e-05,   1.69027497e-04,\n",
       "         7.68946676e-04,   2.05346814e-04,   3.30696439e-04,\n",
       "         2.91504997e-04,   1.94666770e-04,   4.70360626e-04,\n",
       "         1.37198068e-04,   0.00000000e+00,   0.00000000e+00,\n",
       "         1.26690996e-03,   1.14792480e-03,   5.37935824e-04,\n",
       "         0.00000000e+00,   1.85154694e-04,   1.25752667e-03,\n",
       "         3.24438781e-04,   5.50630424e-04,   1.90776108e-04,\n",
       "         1.31603336e-04,   0.00000000e+00,   1.20321260e-03,\n",
       "         1.95392003e-04,   6.34277763e-04,   1.33130200e-04,\n",
       "         1.86446378e-04,   1.51303483e-04,   0.00000000e+00,\n",
       "         8.83023636e-04,   8.66694993e-04,   0.00000000e+00,\n",
       "         0.00000000e+00,   0.00000000e+00,   4.05795416e-04,\n",
       "         9.29964491e-04,   6.76987872e-04,   8.20025539e-04,\n",
       "         1.90885577e-04,   2.86703615e-04,   1.29515380e-03,\n",
       "         4.36217093e-04,   6.04669361e-04,   0.00000000e+00,\n",
       "         1.95420091e-04,   1.51709402e-04,   4.61860378e-04,\n",
       "         0.00000000e+00,   0.00000000e+00,   2.38470097e-04,\n",
       "         4.30330804e-04,   1.08396992e-03,   3.11530292e-04,\n",
       "         4.79759469e-04,   0.00000000e+00,   8.22872574e-04,\n",
       "         0.00000000e+00,   0.00000000e+00,   0.00000000e+00,\n",
       "         2.73714670e-04,   9.39750738e-05,   1.55018478e-03,\n",
       "         3.01726428e-04,   3.83034968e-04,   0.00000000e+00,\n",
       "         1.96170960e-04,   0.00000000e+00,   1.82116284e-03,\n",
       "         8.07075594e-04,   0.00000000e+00,   1.73479000e-03,\n",
       "         1.87192643e-03,   0.00000000e+00,   0.00000000e+00,\n",
       "         1.84482344e-03,   1.03860231e-03,   1.04905437e-04,\n",
       "         1.04350067e-03,   0.00000000e+00,   0.00000000e+00,\n",
       "         0.00000000e+00,   3.28595041e-04,   1.14212244e-03,\n",
       "         1.01590350e-03,   0.00000000e+00,   1.94384148e-04,\n",
       "         3.54990139e-04,   7.08681194e-04,   9.15250770e-04,\n",
       "         0.00000000e+00,   8.97985615e-04,   5.59574554e-04,\n",
       "         0.00000000e+00,   5.09335284e-04,   6.08454242e-04,\n",
       "         8.83504584e-04,   1.55308186e-04,   9.76952184e-05,\n",
       "         0.00000000e+00,   8.57046855e-04,   3.21513964e-05,\n",
       "         0.00000000e+00,   9.54521440e-04,   3.14636712e-04,\n",
       "         1.29745023e-03,   6.65839189e-04,   0.00000000e+00,\n",
       "         0.00000000e+00,   1.60187142e-03,   6.24565362e-04,\n",
       "         7.22221856e-04,   0.00000000e+00,   1.49372751e-03,\n",
       "         0.00000000e+00,   8.29830574e-04,   8.16106634e-04,\n",
       "         1.00346265e-04,   0.00000000e+00,   5.84006975e-04,\n",
       "         0.00000000e+00,   4.17207731e-04,   2.81649088e-03,\n",
       "         1.97099749e-04,   1.12812892e-03,   1.94381621e-04,\n",
       "         3.51561043e-04,   0.00000000e+00,   0.00000000e+00,\n",
       "         2.05669441e-03,   8.72570421e-04,   6.20463743e-04,\n",
       "         0.00000000e+00,   1.90664068e-04,   1.98855879e-04,\n",
       "         1.49771475e-04,   6.27383678e-04,   1.02272774e-03,\n",
       "         0.00000000e+00,   1.11203921e-03,   0.00000000e+00,\n",
       "         1.71363000e-03,   1.21613690e-03,   6.36909348e-05,\n",
       "         9.47003550e-05,   4.81127238e-04,   0.00000000e+00,\n",
       "         0.00000000e+00,   5.42253978e-04,   3.31324130e-04,\n",
       "         1.44527628e-04,   1.09667561e-03,   0.00000000e+00,\n",
       "         6.84530081e-04,   0.00000000e+00,   0.00000000e+00,\n",
       "         9.22341555e-04,   7.09151872e-04,   0.00000000e+00,\n",
       "         2.04058070e-04,   1.85266195e-04,   4.64760044e-04,\n",
       "         3.14510355e-04,   3.49447654e-04,   0.00000000e+00,\n",
       "         2.01360767e-04,   0.00000000e+00,   0.00000000e+00,\n",
       "         1.04121886e-03,   6.51180328e-05,   1.98749172e-04,\n",
       "         3.04249494e-04,   0.00000000e+00,   0.00000000e+00,\n",
       "         1.42729779e-03,   1.67674287e-04,   2.64010610e-04,\n",
       "         1.77478872e-04,   1.13947351e-03,   4.72237254e-04,\n",
       "         1.98325596e-04,   3.70134384e-04,   7.59078332e-04,\n",
       "         4.91034835e-04,   0.00000000e+00,   1.34139429e-04,\n",
       "         1.15569860e-03,   3.05144322e-04,   1.73856854e-04,\n",
       "         1.21227426e-03,   0.00000000e+00,   2.05447049e-04,\n",
       "         5.58801027e-04,   2.94251337e-05,   0.00000000e+00,\n",
       "         5.76953550e-04,   1.73856854e-04,   1.67497298e-03,\n",
       "         1.20290831e-03,   5.54162135e-04,   0.00000000e+00,\n",
       "         0.00000000e+00,   0.00000000e+00,   4.68176884e-04,\n",
       "         1.48053753e-04,   6.40043734e-04,   0.00000000e+00,\n",
       "         0.00000000e+00,   0.00000000e+00,   8.02678814e-04,\n",
       "         3.33670192e-04,   0.00000000e+00,   4.01219835e-04,\n",
       "         0.00000000e+00,   3.61783769e-04,   0.00000000e+00,\n",
       "         4.98770538e-04,   1.89558649e-04,   1.36785069e-04,\n",
       "         0.00000000e+00,   1.19783181e-03,   1.79817190e-04,\n",
       "         1.35221997e-04,   0.00000000e+00,   1.91717274e-04,\n",
       "         1.48477813e-03,   0.00000000e+00,   0.00000000e+00,\n",
       "         2.04163791e-04,   1.69248674e-03,   9.77791977e-04,\n",
       "         6.66490605e-04,   6.29015012e-04,   0.00000000e+00,\n",
       "         1.51298989e-03,   1.00093985e-04,   0.00000000e+00,\n",
       "         1.95054945e-04,   6.60741712e-04,   3.33699977e-04,\n",
       "         3.79604959e-04,   0.00000000e+00,   1.00122460e-03,\n",
       "         0.00000000e+00,   9.98476503e-05,   4.93719375e-04,\n",
       "         2.17643024e-04,   2.84071971e-04,   0.00000000e+00,\n",
       "         4.90410517e-04,   1.98022125e-04,   0.00000000e+00,\n",
       "         1.97833340e-04,   0.00000000e+00,   0.00000000e+00,\n",
       "         2.82341440e-03,   1.58996011e-04,   0.00000000e+00,\n",
       "         1.08437990e-03,   1.77660107e-03,   2.00474473e-04,\n",
       "         3.83392598e-04,   3.42584006e-04,   0.00000000e+00,\n",
       "         1.98126943e-03,   2.94246310e-04,   7.61619883e-04,\n",
       "         0.00000000e+00,   6.26065694e-04,   4.65008236e-04,\n",
       "         2.63206673e-04,   1.79837893e-04,   0.00000000e+00,\n",
       "         7.00643089e-04,   1.13276800e-03,   0.00000000e+00,\n",
       "         1.00468677e-03,   0.00000000e+00,   4.30828776e-04,\n",
       "         2.63274186e-03,   0.00000000e+00,   3.63082365e-04,\n",
       "         2.43996483e-03,   4.41894428e-04,   3.73334664e-04,\n",
       "         7.49512316e-04,   1.82549696e-04,   0.00000000e+00,\n",
       "         0.00000000e+00,   1.95390437e-04,   1.95000902e-04,\n",
       "         3.99363907e-04,   0.00000000e+00,   2.33936581e-04,\n",
       "         0.00000000e+00,   1.33130200e-04,   0.00000000e+00,\n",
       "         0.00000000e+00,   6.53029983e-04,   0.00000000e+00,\n",
       "         8.36035134e-04,   0.00000000e+00,   6.34113666e-04,\n",
       "         0.00000000e+00,   4.04558405e-04,   4.15003839e-04,\n",
       "         1.77478872e-04,   1.99076829e-04,   0.00000000e+00,\n",
       "         3.90223279e-04,   0.00000000e+00,   3.33699977e-04,\n",
       "         2.40831037e-04,   2.01114072e-04,   3.88676158e-04,\n",
       "         9.77581897e-04,   0.00000000e+00,   0.00000000e+00,\n",
       "         2.37524028e-04,   1.08472098e-03,   2.10723772e-04,\n",
       "         0.00000000e+00,   0.00000000e+00,   5.92355417e-04,\n",
       "         0.00000000e+00,   3.54030321e-04,   3.15892970e-04,\n",
       "         1.00349448e-04,   3.16399264e-04,   0.00000000e+00,\n",
       "         1.67674287e-04,   4.16345624e-04,   0.00000000e+00,\n",
       "         0.00000000e+00,   6.84192464e-04,   2.12261761e-04,\n",
       "         2.36376668e-04,   1.07459576e-03,   4.16856535e-04,\n",
       "         6.40947262e-04,   0.00000000e+00,   0.00000000e+00,\n",
       "         1.35221997e-04,   1.75605964e-04,   5.72822029e-04,\n",
       "         1.08412158e-03,   8.14824912e-04,   0.00000000e+00,\n",
       "         0.00000000e+00,   7.45903935e-04,   3.73466060e-04,\n",
       "         4.34200971e-04,   1.25535723e-03,   9.88942341e-04,\n",
       "         9.99218118e-04,   0.00000000e+00,   0.00000000e+00,\n",
       "         6.13016259e-04,   0.00000000e+00,   5.51332087e-04,\n",
       "         9.30650179e-04,   0.00000000e+00,   1.82830526e-04,\n",
       "         1.83700382e-03,   3.99965894e-04,   0.00000000e+00,\n",
       "         5.03430109e-04,   9.47532286e-04,   3.70263499e-04,\n",
       "         4.83781831e-04,   2.50160695e-04,   8.19740958e-04,\n",
       "         1.53883203e-04,   3.43892066e-04])"
      ]
     },
     "execution_count": 11,
     "metadata": {},
     "output_type": "execute_result"
    }
   ],
   "source": [
    "model.feature_importances_"
   ]
  },
  {
   "cell_type": "code",
   "execution_count": 12,
   "metadata": {
    "collapsed": false
   },
   "outputs": [
    {
     "data": {
      "text/plain": [
       "array(['mean radius', 'mean texture', 'mean perimeter', 'mean area',\n",
       "       'mean smoothness', 'mean compactness', 'mean concavity',\n",
       "       'mean concave points', 'mean symmetry', 'mean fractal dimension',\n",
       "       'radius error', 'texture error', 'perimeter error', 'area error',\n",
       "       'smoothness error', 'compactness error', 'concavity error',\n",
       "       'concave points error', 'symmetry error', 'fractal dimension error',\n",
       "       'worst radius', 'worst texture', 'worst perimeter', 'worst area',\n",
       "       'worst smoothness', 'worst compactness', 'worst concavity',\n",
       "       'worst concave points', 'worst symmetry', 'worst fractal dimension'], \n",
       "      dtype='|S23')"
      ]
     },
     "execution_count": 12,
     "metadata": {},
     "output_type": "execute_result"
    }
   ],
   "source": [
    "data.feature_names"
   ]
  },
  {
   "cell_type": "code",
   "execution_count": 13,
   "metadata": {
    "collapsed": false
   },
   "outputs": [
    {
     "data": {
      "text/plain": [
       "[('mean radius', 0.031715939795429984),\n",
       " ('mean texture', 0.0066531546202709714),\n",
       " ('mean perimeter', 0.093700085712286912),\n",
       " ('mean area', 0.02286875271428309),\n",
       " ('mean smoothness', 0.00089681621520113278),\n",
       " ('mean compactness', 0.010577498227633167),\n",
       " ('mean concavity', 0.021766690076346594),\n",
       " ('mean concave points', 0.093048307664233651),\n",
       " ('mean symmetry', 0.005129507107150981),\n",
       " ('mean fractal dimension', 0.00060047908496632869),\n",
       " ('radius error', 0.013291055805479764),\n",
       " ('texture error', 0.00074300108183832786),\n",
       " ('perimeter error', 0.017459165735731096),\n",
       " ('area error', 0.062727772376349925),\n",
       " ('smoothness error', 0.0011655994974119907),\n",
       " ('compactness error', 0.0027723866060717834),\n",
       " ('concavity error', 0.022611525663761636),\n",
       " ('concave points error', 0.0041535624664707704),\n",
       " ('symmetry error', 0.00019450675671502159),\n",
       " ('fractal dimension error', 0.0031050020533412996),\n",
       " ('worst radius', 0.075323445396155889),\n",
       " ('worst texture', 0.0088686387219507751),\n",
       " ('worst perimeter', 0.079948813251494236),\n",
       " ('worst area', 0.031108741545071296),\n",
       " ('worst smoothness', 0.013852795539472084),\n",
       " ('worst compactness', 0.030503254069794941),\n",
       " ('worst concavity', 0.042136288334325499),\n",
       " ('worst concave points', 0.037291984216497022),\n",
       " ('worst symmetry', 0.0086025272201238207),\n",
       " ('worst fractal dimension', 0.0046206006632908249)]"
      ]
     },
     "execution_count": 13,
     "metadata": {},
     "output_type": "execute_result"
    }
   ],
   "source": [
    "zippped_featureImg = zip(data.feature_names, model.feature_importances_)\n",
    "zippped_featureImg"
   ]
  },
  {
   "cell_type": "code",
   "execution_count": 14,
   "metadata": {
    "collapsed": false
   },
   "outputs": [
    {
     "name": "stdout",
     "output_type": "stream",
     "text": [
      "[('mean perimeter', 0.093700085712286912), ('mean concave points', 0.093048307664233651), ('worst perimeter', 0.079948813251494236), ('worst radius', 0.075323445396155889), ('area error', 0.062727772376349925), ('worst concavity', 0.042136288334325499), ('worst concave points', 0.037291984216497022), ('mean radius', 0.031715939795429984), ('worst area', 0.031108741545071296), ('worst compactness', 0.030503254069794941), ('mean area', 0.02286875271428309), ('concavity error', 0.022611525663761636), ('mean concavity', 0.021766690076346594), ('perimeter error', 0.017459165735731096), ('worst smoothness', 0.013852795539472084), ('radius error', 0.013291055805479764), ('mean compactness', 0.010577498227633167), ('worst texture', 0.0088686387219507751), ('worst symmetry', 0.0086025272201238207), ('mean texture', 0.0066531546202709714), ('mean symmetry', 0.005129507107150981), ('worst fractal dimension', 0.0046206006632908249), ('concave points error', 0.0041535624664707704), ('fractal dimension error', 0.0031050020533412996), ('compactness error', 0.0027723866060717834), ('smoothness error', 0.0011655994974119907), ('mean smoothness', 0.00089681621520113278), ('texture error', 0.00074300108183832786), ('mean fractal dimension', 0.00060047908496632869), ('symmetry error', 0.00019450675671502159)]\n"
     ]
    }
   ],
   "source": [
    "print sorted(zippped_featureImg, key=lambda x: x[1], reverse=True)"
   ]
  },
  {
   "cell_type": "code",
   "execution_count": 15,
   "metadata": {
    "collapsed": true
   },
   "outputs": [],
   "source": [
    "index_most_important = list(data.feature_names).index(\"worst radius\")"
   ]
  },
  {
   "cell_type": "code",
   "execution_count": 16,
   "metadata": {
    "collapsed": false
   },
   "outputs": [
    {
     "data": {
      "image/png": "[encoded data removed]",
      "text/plain": [
       "<matplotlib.figure.Figure at 0x111ec7910>"
      ]
     },
     "metadata": {},
     "output_type": "display_data"
    }
   ],
   "source": [
    "plt.plot(X[:, index_most_important], Y, 'ro')\n",
    "plt.xlabel('worst radius')\n",
    "plt.ylabel('response')\n",
    "plt.ylim(-0.5,1.5)\n",
    "plt.show()"
   ]
  },
  {
   "cell_type": "code",
   "execution_count": 17,
   "metadata": {
    "collapsed": false
   },
   "outputs": [
    {
     "data": {
      "image/png": "[encoded data removed]",
      "text/plain": [
       "<matplotlib.figure.Figure at 0x1120f1190>"
      ]
     },
     "metadata": {},
     "output_type": "display_data"
    }
   ],
   "source": [
    "index_least_important = list(data.feature_names).index('mean symmetry')\n",
    "plt.plot(X[:, index_least_important], Y, 'ro')\n",
    "plt.xlabel('worst radius')\n",
    "plt.ylabel('response')\n",
    "plt.ylim(-0.5,1.5)\n",
    "plt.show()"
   ]
  },
  {
   "cell_type": "code",
   "execution_count": 18,
   "metadata": {
    "collapsed": false
   },
   "outputs": [
    {
     "name": "stdout",
     "output_type": "stream",
     "text": [
      "0.947275922671\n",
      "Running time (sec):  0.697596\n",
      "0.947395151982\n",
      "Running time (sec):  2.425713\n"
     ]
    }
   ],
   "source": [
    "# out of bag score, replace cross validation\n",
    "import time\n",
    "model = RFC(50, oob_score=True)\n",
    "\n",
    "start = time.clock()\n",
    "model.fit(X,Y)\n",
    "print(model.oob_score_) # also to estimate the test score\n",
    "print \"Running time (sec): \", (time.clock() - start)\n",
    "\n",
    "from sklearn.model_selection import cross_val_score\n",
    "start = time.clock()\n",
    "print cross_val_score(RFC(50), X, Y, cv=5).mean()\n",
    "print \"Running time (sec): \", (time.clock() - start)\n",
    "\n"
   ]
  },
  {
   "cell_type": "code",
   "execution_count": null,
   "metadata": {
    "collapsed": true
   },
   "outputs": [],
   "source": []
  }
 ],
 "metadata": {
  "anaconda-cloud": {},
  "kernelspec": {
   "display_name": "Python [Root]",
   "language": "python",
   "name": "Python [Root]"
  },
  "language_info": {
   "codemirror_mode": {
    "name": "ipython",
    "version": 2
   },
   "file_extension": ".py",
   "mimetype": "text/x-python",
   "name": "python",
   "nbconvert_exporter": "python",
   "pygments_lexer": "ipython2",
   "version": "2.7.12"
  }
 },
 "nbformat": 4,
 "nbformat_minor": 0
}
