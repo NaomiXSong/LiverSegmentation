{
 "cells": [
  {
   "cell_type": "code",
   "execution_count": 33,
   "metadata": {
    "collapsed": true
   },
   "outputs": [],
   "source": [
    "# to demo, at a node (a certain training data), how to do the split\n",
    "\n",
    "import matplotlib.pyplot as plt\n",
    "from sklearn import datasets\n",
    "import numpy as np\n",
    "%matplotlib inline\n",
    "\n",
    "# import some data to play with\n",
    "iris = datasets.load_iris()\n",
    "X = iris.data[:, :2]  # we only take the first two features.\n",
    "y = iris.target"
   ]
  },
  {
   "cell_type": "code",
   "execution_count": 46,
   "metadata": {
    "collapsed": false
   },
   "outputs": [
    {
     "name": "stdout",
     "output_type": "stream",
     "text": [
      "X:  [[ 5.1  3.5]\n",
      " [ 4.9  3. ]\n",
      " [ 4.7  3.2]\n",
      " [ 4.6  3.1]\n",
      " [ 5.   3.6]\n",
      " [ 5.4  3.9]\n",
      " [ 4.6  3.4]\n",
      " [ 5.   3.4]\n",
      " [ 4.4  2.9]\n",
      " [ 4.9  3.1]]\n",
      "y:  [0 0 0 0 0 0 0 0 0 0]\n",
      "y values:  [0 1 2]\n"
     ]
    }
   ],
   "source": [
    "print \"X: \", X[:10]\n",
    "print \"y: \", y[:10]\n",
    "print \"y values: \", np.unique(y)"
   ]
  },
  {
   "cell_type": "code",
   "execution_count": 47,
   "metadata": {
    "collapsed": false
   },
   "outputs": [
    {
     "data": {
      "text/plain": [
       "Counter({1: 2, 2: 1, 3: 2, 4: 3, 5: 1, 6: 3})"
      ]
     },
     "execution_count": 47,
     "metadata": {},
     "output_type": "execute_result"
    }
   ],
   "source": [
    "from collections import Counter\n",
    "\n",
    "a = [1,1,2,3,3,4,4,4,5,6,6,6]\n",
    "# to find each elements' apperance\n",
    "\n",
    "aCounter = Counter(a)\n",
    "aCounter"
   ]
  },
  {
   "cell_type": "code",
   "execution_count": 35,
   "metadata": {
    "collapsed": true
   },
   "outputs": [],
   "source": [
    "# gini index =  sum(n_i/n * (1 - sum(pj**2)))\n",
    "\n",
    "# n -- split --> (n1, n2)\n",
    "\n",
    "def giniIndex(y1, y2):\n",
    "    # y1 and y2 are the labels after the node split\n",
    "    n1 = len(y1)\n",
    "    n2 = len(y2)\n",
    "    n = n1 + n2\n",
    "    y1Counter = Counter(y1)\n",
    "    y2Counter = Counter(y2)\n",
    "    y1Ps = np.array([v/float(n1) for v in y1Counter.values()])\n",
    "    y2Ps = np.array([v/float(n2) for v in y2Counter.values()])\n",
    "    y1Gini = 1 - sum(y1Ps**2)\n",
    "    y2Gini = 1 - sum(y2Ps**2)\n",
    "    return float(n1)/(n)*y1Gini + float(n2)/(n)*y2Gini"
   ]
  },
  {
   "cell_type": "code",
   "execution_count": 36,
   "metadata": {
    "collapsed": false
   },
   "outputs": [
    {
     "data": {
      "text/plain": [
       "0.5"
      ]
     },
     "execution_count": 36,
     "metadata": {},
     "output_type": "execute_result"
    }
   ],
   "source": [
    "# the original data's label is [1,1,1,1,0,0,0,0]\n",
    "giniIndex([1,1,0,0],[1,1,0,0])"
   ]
  },
  {
   "cell_type": "code",
   "execution_count": 37,
   "metadata": {
    "collapsed": false
   },
   "outputs": [
    {
     "data": {
      "text/plain": [
       "0.375"
      ]
     },
     "execution_count": 37,
     "metadata": {},
     "output_type": "execute_result"
    }
   ],
   "source": [
    "giniIndex([1,0,0,0],[1,1,1,0])"
   ]
  },
  {
   "cell_type": "code",
   "execution_count": 38,
   "metadata": {
    "collapsed": false
   },
   "outputs": [
    {
     "data": {
      "text/plain": [
       "0.0"
      ]
     },
     "execution_count": 38,
     "metadata": {},
     "output_type": "execute_result"
    }
   ],
   "source": [
    "giniIndex([1,1,1,1],[0,0,0,0])"
   ]
  },
  {
   "cell_type": "code",
   "execution_count": 39,
   "metadata": {
    "collapsed": false
   },
   "outputs": [
    {
     "name": "stdout",
     "output_type": "stream",
     "text": [
      "feature to use to split the node:  0\n",
      "best cut value:  5.5\n",
      "gini index:  0.438906331763\n"
     ]
    }
   ],
   "source": [
    "# should be implemented as a class, but here in order to demo easily\n",
    "# trying to find how to split the data into two groups, \n",
    "# such that each groups contain more pure data\n",
    "bestFeature = -1 # the index in the X\n",
    "bestCutVal = 0\n",
    "bestGiniIndex = 1.\n",
    "for j in np.arange(X.shape[1]): # iterate through all the features\n",
    "    uniqueVals = np.unique(X[:,j])\n",
    "    for val in uniqueVals: # iterate through all the possible cut values\n",
    "        # now node splitting\n",
    "        y1 = y[X[:,j]<val]\n",
    "        y2 = y[X[:,j]>=val]\n",
    "        temp = giniIndex(y1, y2) # compute the current gini index\n",
    "        if(temp < bestGiniIndex ):\n",
    "            bestGiniIndex = temp\n",
    "            bestFeature = j\n",
    "            bestCutVal = val\n",
    "\n",
    "print \"feature to use to split the node: \", bestFeature\n",
    "print \"best cut value: \", bestCutVal\n",
    "print \"gini index: \", bestGiniIndex"
   ]
  },
  {
   "cell_type": "code",
   "execution_count": 40,
   "metadata": {
    "collapsed": true
   },
   "outputs": [],
   "source": [
    "y1 = y[X[:,bestFeature]<bestCutVal]\n",
    "y2 = y[X[:,bestFeature]>=bestCutVal]"
   ]
  },
  {
   "cell_type": "code",
   "execution_count": 48,
   "metadata": {
    "collapsed": false
   },
   "outputs": [
    {
     "data": {
      "text/plain": [
       "Counter({0: 50, 1: 50, 2: 50})"
      ]
     },
     "execution_count": 48,
     "metadata": {},
     "output_type": "execute_result"
    }
   ],
   "source": [
    "Counter(y)"
   ]
  },
  {
   "cell_type": "code",
   "execution_count": 43,
   "metadata": {
    "collapsed": false
   },
   "outputs": [
    {
     "data": {
      "text/plain": [
       "Counter({0: 45, 1: 6, 2: 1})"
      ]
     },
     "execution_count": 43,
     "metadata": {},
     "output_type": "execute_result"
    }
   ],
   "source": [
    "Counter(y1)"
   ]
  },
  {
   "cell_type": "code",
   "execution_count": 44,
   "metadata": {
    "collapsed": false
   },
   "outputs": [
    {
     "data": {
      "text/plain": [
       "Counter({0: 5, 1: 44, 2: 49})"
      ]
     },
     "execution_count": 44,
     "metadata": {},
     "output_type": "execute_result"
    }
   ],
   "source": [
    "Counter(y2)"
   ]
  },
  {
   "cell_type": "code",
   "execution_count": null,
   "metadata": {
    "collapsed": true
   },
   "outputs": [],
   "source": []
  },
  {
   "cell_type": "code",
   "execution_count": null,
   "metadata": {
    "collapsed": true
   },
   "outputs": [],
   "source": []
  }
 ],
 "metadata": {
  "kernelspec": {
   "display_name": "Python [Root]",
   "language": "python",
   "name": "Python [Root]"
  },
  "language_info": {
   "codemirror_mode": {
    "name": "ipython",
    "version": 2
   },
   "file_extension": ".py",
   "mimetype": "text/x-python",
   "name": "python",
   "nbconvert_exporter": "python",
   "pygments_lexer": "ipython2",
   "version": "2.7.12"
  }
 },
 "nbformat": 4,
 "nbformat_minor": 0
}
