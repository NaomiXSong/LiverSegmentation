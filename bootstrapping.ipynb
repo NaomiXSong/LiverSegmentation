{
 "cells": [
  {
   "cell_type": "code",
   "execution_count": 1,
   "metadata": {
    "collapsed": true
   },
   "outputs": [],
   "source": [
    "# How to estimate the distribution of a mean of 1000 data sampled from a normal distribution\n",
    "# suppose X~N(0,1), what is the mean and variance of X1 + X2 + X3 + X4 + .. X1000?"
   ]
  },
  {
   "cell_type": "code",
   "execution_count": 16,
   "metadata": {
    "collapsed": true
   },
   "outputs": [],
   "source": [
    "import numpy as np\n",
    "import matplotlib.pyplot as plt\n",
    "%matplotlib inline"
   ]
  },
  {
   "cell_type": "code",
   "execution_count": 17,
   "metadata": {
    "collapsed": false
   },
   "outputs": [
    {
     "data": {
      "text/plain": [
       "array([ 0.16524287])"
      ]
     },
     "execution_count": 17,
     "metadata": {},
     "output_type": "execute_result"
    }
   ],
   "source": [
    "X1 = np.random.randn(1) # from N(0,1) sample one data\n",
    "X1"
   ]
  },
  {
   "cell_type": "code",
   "execution_count": 22,
   "metadata": {
    "collapsed": false
   },
   "outputs": [
    {
     "data": {
      "text/plain": [
       "(1000,)"
      ]
     },
     "execution_count": 22,
     "metadata": {},
     "output_type": "execute_result"
    }
   ],
   "source": [
    "Xs = np.zeros(1000) # an empty list to contain the numbers we generated\n",
    "for i in range(len(Xs)):\n",
    "    Xs[i] = np.random.randn(1)\n",
    "Xs.shape"
   ]
  },
  {
   "cell_type": "code",
   "execution_count": 19,
   "metadata": {
    "collapsed": false
   },
   "outputs": [
    {
     "data": {
      "text/plain": [
       "(array([   5.,   33.,   91.,  159.,  257.,  237.,  157.,   47.,    9.,    5.]),\n",
       " array([-3.21257082, -2.54107977, -1.86958871, -1.19809766, -0.5266066 ,\n",
       "         0.14488445,  0.81637551,  1.48786656,  2.15935762,  2.83084867,\n",
       "         3.50233973]),\n",
       " <a list of 10 Patch objects>)"
      ]
     },
     "execution_count": 19,
     "metadata": {},
     "output_type": "execute_result"
    },
    {
     "data": {
      "image/png": "[encoded data removed]",
      "text/plain": [
       "<matplotlib.figure.Figure at 0x10fea5d50>"
      ]
     },
     "metadata": {},
     "output_type": "display_data"
    }
   ],
   "source": [
    "plt.hist(Xs)"
   ]
  },
  {
   "cell_type": "code",
   "execution_count": 21,
   "metadata": {
    "collapsed": false
   },
   "outputs": [
    {
     "data": {
      "text/plain": [
       "(1000,)"
      ]
     },
     "execution_count": 21,
     "metadata": {},
     "output_type": "execute_result"
    }
   ],
   "source": [
    "# a better way\n",
    "Xs = np.random.randn(1000)\n",
    "Xs.shape"
   ]
  },
  {
   "cell_type": "code",
   "execution_count": 8,
   "metadata": {
    "collapsed": false
   },
   "outputs": [
    {
     "data": {
      "text/plain": [
       "-0.1109736504404918"
      ]
     },
     "execution_count": 8,
     "metadata": {},
     "output_type": "execute_result"
    }
   ],
   "source": [
    "# if X's are random variables (they are independent, indistinct distributed, iid)\n",
    "# their mean is also random variable, what is the mean and variance then?\n",
    "\n",
    "X_mean = Xs.mean()\n",
    "X_mean # we only have one value, how do we know its mean?"
   ]
  },
  {
   "cell_type": "code",
   "execution_count": 28,
   "metadata": {
    "collapsed": false
   },
   "outputs": [
    {
     "data": {
      "text/plain": [
       "array([-0.02737729, -0.04328027,  0.02082542, -0.02080793,  0.03164378,\n",
       "       -0.05244267,  0.04927302,  0.04787855,  0.00905774, -0.02752323,\n",
       "       -0.01632407, -0.06875494, -0.03372393, -0.03633267,  0.03383566,\n",
       "       -0.0162972 , -0.07826082,  0.01509654, -0.00642762,  0.04134374,\n",
       "       -0.00894812, -0.05696323,  0.00344364,  0.00407279,  0.03972067,\n",
       "        0.05886075, -0.00929873, -0.01111978, -0.00278702, -0.01948861,\n",
       "       -0.03860462, -0.02497798,  0.0042429 , -0.00708963, -0.05034104,\n",
       "        0.04971066,  0.03537885,  0.01226414,  0.01425575,  0.03584968,\n",
       "        0.01378435, -0.06676255,  0.03662489, -0.02574083,  0.03200922,\n",
       "       -0.04027029,  0.0104913 ,  0.01602305,  0.03477517,  0.04202556,\n",
       "        0.01259785,  0.04115364, -0.0205642 ,  0.0193445 ,  0.02279941,\n",
       "       -0.01446437, -0.02504138,  0.01054688, -0.01312499,  0.02361605,\n",
       "       -0.00075015, -0.02887163, -0.00649257, -0.02496227, -0.02171986,\n",
       "        0.00240832,  0.04514635,  0.00166235, -0.01868515, -0.09490155,\n",
       "       -0.01522618, -0.01300018, -0.01196661,  0.02303977,  0.01567954,\n",
       "       -0.00818984, -0.01171618,  0.01439961,  0.02407729,  0.06894051,\n",
       "        0.04270427,  0.0104349 , -0.00950377, -0.02760578, -0.0046365 ,\n",
       "       -0.01530232, -0.03406796,  0.04677466, -0.02719532,  0.03967642,\n",
       "       -0.03305063, -0.04081303, -0.01017473,  0.04813982, -0.04224122,\n",
       "        0.00575806,  0.05076704,  0.03122765,  0.04848601,  0.01531497])"
      ]
     },
     "execution_count": 28,
     "metadata": {},
     "output_type": "execute_result"
    }
   ],
   "source": [
    "# well what we can do is to sample multiple batches, \n",
    "X_means = np.zeros(100)\n",
    "for i in range(len(X_means)):\n",
    "    Xs = np.random.randn(1000)\n",
    "    X_means[i] = Xs.mean()\n",
    "\n",
    "X_means\n"
   ]
  },
  {
   "cell_type": "code",
   "execution_count": 29,
   "metadata": {
    "collapsed": false
   },
   "outputs": [
    {
     "data": {
      "text/plain": [
       "(array([  1.,   3.,   3.,   9.,  21.,  16.,  18.,  12.,  15.,   2.]),\n",
       " array([-0.09490155, -0.07851734, -0.06213313, -0.04574893, -0.02936472,\n",
       "        -0.01298052,  0.00340369,  0.01978789,  0.0361721 ,  0.0525563 ,\n",
       "         0.06894051]),\n",
       " <a list of 10 Patch objects>)"
      ]
     },
     "execution_count": 29,
     "metadata": {},
     "output_type": "execute_result"
    },
    {
     "data": {
      "image/png": "[encoded data removed]",
      "text/plain": [
       "<matplotlib.figure.Figure at 0x1102ee3d0>"
      ]
     },
     "metadata": {},
     "output_type": "display_data"
    }
   ],
   "source": [
    "plt.hist(X_means)"
   ]
  },
  {
   "cell_type": "code",
   "execution_count": 30,
   "metadata": {
    "collapsed": false
   },
   "outputs": [
    {
     "name": "stdout",
     "output_type": "stream",
     "text": [
      "the mean of X:  -0.002328683023\n",
      "the mean of mean(X1...X100):  -7.02972166096e-05\n",
      "the variance (standard deviation) of X:  1.03824000258\n",
      "the variance of mean(X1...X100):  0.00108598766631\n"
     ]
    }
   ],
   "source": [
    "print \"the mean of X: \", np.random.randn(10000).mean()\n",
    "print \"the mean of mean(X1...X1000): \",X_means.mean()\n",
    "print \"the variance (standard deviation) of X: \",np.random.randn(10000).std()**2\n",
    "print \"the variance of mean(X1...X1000): \",X_means.std()**2"
   ]
  },
  {
   "cell_type": "code",
   "execution_count": 31,
   "metadata": {
    "collapsed": true
   },
   "outputs": [],
   "source": [
    "# that is what we already know from math: var(X_mean) = var(X)/N\n"
   ]
  },
  {
   "cell_type": "code",
   "execution_count": 32,
   "metadata": {
    "collapsed": false
   },
   "outputs": [
    {
     "data": {
      "text/plain": [
       "(array([  6.,   9.,  10.,  15.,  17.,  11.,  16.,   5.,   8.,   3.]),\n",
       " array([-0.04073961, -0.02710381, -0.013468  ,  0.00016781,  0.01380362,\n",
       "         0.02743942,  0.04107523,  0.05471104,  0.06834684,  0.08198265,\n",
       "         0.09561846]),\n",
       " <a list of 10 Patch objects>)"
      ]
     },
     "execution_count": 32,
     "metadata": {},
     "output_type": "execute_result"
    },
    {
     "data": {
      "image/png": "[encoded data removed]",
      "text/plain": [
       "<matplotlib.figure.Figure at 0x10f865210>"
      ]
     },
     "metadata": {},
     "output_type": "display_data"
    }
   ],
   "source": [
    "# how do we do it if we only has one sample of data. Say we only have one Xs\n",
    "# we simulate the distribution of X by resampling the Xs\n",
    "X_means_bootstrapping = np.zeros(100)\n",
    "for i in range(len(X_means)):\n",
    "    Xs_resample = np.random.choice(Xs, len(Xs)) \n",
    "    # bootstrapping, resample a sample data, to simulate the real distribution\n",
    "    # generally speaking, resampling will use the same size as the original data\n",
    "    X_means_bootstrapping[i] = Xs_resample.mean()\n",
    "\n",
    "plt.hist(X_means_bootstrapping)"
   ]
  },
  {
   "cell_type": "code",
   "execution_count": 33,
   "metadata": {
    "collapsed": false
   },
   "outputs": [
    {
     "name": "stdout",
     "output_type": "stream",
     "text": [
      "the mean of X:  -0.00345451939631\n",
      "the mean of mean(X1...X100):  0.0230893282286\n",
      "the variance (standard deviation) of X:  0.995599071569\n",
      "the variance of mean(X1...X100):  0.00104896047322\n"
     ]
    }
   ],
   "source": [
    "print \"the mean of X: \", np.random.randn(10000).mean()\n",
    "print \"the mean of mean(X1...X100): \",X_means_bootstrapping.mean()\n",
    "print \"the variance (standard deviation) of X: \",np.random.randn(10000).std()**2\n",
    "print \"the variance of mean(X1...X100): \",X_means_bootstrapping.std()**2"
   ]
  },
  {
   "cell_type": "code",
   "execution_count": 34,
   "metadata": {
    "collapsed": false
   },
   "outputs": [
    {
     "data": {
      "text/plain": [
       "array([4, 3, 3, 4, 4])"
      ]
     },
     "execution_count": 34,
     "metadata": {},
     "output_type": "execute_result"
    }
   ],
   "source": [
    "a = [1,2,3,4,5]\n",
    "np.random.choice(a,5)"
   ]
  },
  {
   "cell_type": "code",
   "execution_count": 35,
   "metadata": {
    "collapsed": false
   },
   "outputs": [
    {
     "data": {
      "text/plain": [
       "array([2, 3, 4, 5, 1])"
      ]
     },
     "execution_count": 35,
     "metadata": {},
     "output_type": "execute_result"
    }
   ],
   "source": [
    "np.random.choice(a,5, replace=False)"
   ]
  },
  {
   "cell_type": "code",
   "execution_count": null,
   "metadata": {
    "collapsed": true
   },
   "outputs": [],
   "source": []
  }
 ],
 "metadata": {
  "anaconda-cloud": {},
  "kernelspec": {
   "display_name": "Python [Root]",
   "language": "python",
   "name": "Python [Root]"
  },
  "language_info": {
   "codemirror_mode": {
    "name": "ipython",
    "version": 2
   },
   "file_extension": ".py",
   "mimetype": "text/x-python",
   "name": "python",
   "nbconvert_exporter": "python",
   "pygments_lexer": "ipython2",
   "version": "2.7.12"
  }
 },
 "nbformat": 4,
 "nbformat_minor": 0
}
